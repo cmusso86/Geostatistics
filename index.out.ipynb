{
 "cells": [
  {
   "cell_type": "markdown",
   "metadata": {},
   "source": [
    "# Temperetura atmosférica na Região Integrada de Desenvolvimento do\n",
    "\n",
    "Distrito Federal e Entorno\n",
    "\n",
    "Estava quente na RIDE no dia do meu aniverário no primeiro ano da pandemia?\n",
    "\n",
    "Carolina Musso [![](data:image/png;base64,iVBORw0KGgoAAAANSUhEUgAAABAAAAAQCAYAAAAf8/9hAAAAGXRFWHRTb2Z0d2FyZQBBZG9iZSBJbWFnZVJlYWR5ccllPAAAA2ZpVFh0WE1MOmNvbS5hZG9iZS54bXAAAAAAADw/eHBhY2tldCBiZWdpbj0i77u/IiBpZD0iVzVNME1wQ2VoaUh6cmVTek5UY3prYzlkIj8+IDx4OnhtcG1ldGEgeG1sbnM6eD0iYWRvYmU6bnM6bWV0YS8iIHg6eG1wdGs9IkFkb2JlIFhNUCBDb3JlIDUuMC1jMDYwIDYxLjEzNDc3NywgMjAxMC8wMi8xMi0xNzozMjowMCAgICAgICAgIj4gPHJkZjpSREYgeG1sbnM6cmRmPSJodHRwOi8vd3d3LnczLm9yZy8xOTk5LzAyLzIyLXJkZi1zeW50YXgtbnMjIj4gPHJkZjpEZXNjcmlwdGlvbiByZGY6YWJvdXQ9IiIgeG1sbnM6eG1wTU09Imh0dHA6Ly9ucy5hZG9iZS5jb20veGFwLzEuMC9tbS8iIHhtbG5zOnN0UmVmPSJodHRwOi8vbnMuYWRvYmUuY29tL3hhcC8xLjAvc1R5cGUvUmVzb3VyY2VSZWYjIiB4bWxuczp4bXA9Imh0dHA6Ly9ucy5hZG9iZS5jb20veGFwLzEuMC8iIHhtcE1NOk9yaWdpbmFsRG9jdW1lbnRJRD0ieG1wLmRpZDo1N0NEMjA4MDI1MjA2ODExOTk0QzkzNTEzRjZEQTg1NyIgeG1wTU06RG9jdW1lbnRJRD0ieG1wLmRpZDozM0NDOEJGNEZGNTcxMUUxODdBOEVCODg2RjdCQ0QwOSIgeG1wTU06SW5zdGFuY2VJRD0ieG1wLmlpZDozM0NDOEJGM0ZGNTcxMUUxODdBOEVCODg2RjdCQ0QwOSIgeG1wOkNyZWF0b3JUb29sPSJBZG9iZSBQaG90b3Nob3AgQ1M1IE1hY2ludG9zaCI+IDx4bXBNTTpEZXJpdmVkRnJvbSBzdFJlZjppbnN0YW5jZUlEPSJ4bXAuaWlkOkZDN0YxMTc0MDcyMDY4MTE5NUZFRDc5MUM2MUUwNEREIiBzdFJlZjpkb2N1bWVudElEPSJ4bXAuZGlkOjU3Q0QyMDgwMjUyMDY4MTE5OTRDOTM1MTNGNkRBODU3Ii8+IDwvcmRmOkRlc2NyaXB0aW9uPiA8L3JkZjpSREY+IDwveDp4bXBtZXRhPiA8P3hwYWNrZXQgZW5kPSJyIj8+84NovQAAAR1JREFUeNpiZEADy85ZJgCpeCB2QJM6AMQLo4yOL0AWZETSqACk1gOxAQN+cAGIA4EGPQBxmJA0nwdpjjQ8xqArmczw5tMHXAaALDgP1QMxAGqzAAPxQACqh4ER6uf5MBlkm0X4EGayMfMw/Pr7Bd2gRBZogMFBrv01hisv5jLsv9nLAPIOMnjy8RDDyYctyAbFM2EJbRQw+aAWw/LzVgx7b+cwCHKqMhjJFCBLOzAR6+lXX84xnHjYyqAo5IUizkRCwIENQQckGSDGY4TVgAPEaraQr2a4/24bSuoExcJCfAEJihXkWDj3ZAKy9EJGaEo8T0QSxkjSwORsCAuDQCD+QILmD1A9kECEZgxDaEZhICIzGcIyEyOl2RkgwAAhkmC+eAm0TAAAAABJRU5ErkJggg==)](https://orcid.org/0000-0002-8107-6458) (Universidade de Brasília)  \n",
    "18 de julho de 2025\n",
    "\n",
    "Em 22 de outubro de 2020, data pessoalmente significativa para a autora, foram extraídos dados de temperatura da superfície terrestre (LST) para a Região Integrada de Desenvolvimento do Distrito Federal e Entorno (RIDE-DF), com base em imagens do satélite MODIS. Os dados foram filtrados para incluir apenas os municípios pertencentes à RIDE. Em seguida, avaliou-se o ajuste de diferentes modelos de variogramas aos dados, optando-se por um modelo Exponencial. Então, aplicou-se a krigagem ordinária para interpolar uma superfície contínua de temperatura e comparou-se com a krigagem universal, que foram considerados equivalentes. A superfície resultante oferece uma visão da estrutura espacial da variação de temperatura na região durante um dia especialmente quente (para mim) e memorável de 2020. e não apenas uma mera curiosidade geográfica, mas também um exercício de aplicação de técnicas geoestatísticas em um contexto pessoal e afetivo.\n",
    "\n",
    "## 1 Introdução\n",
    "\n",
    "Há quem não goste de comemorar aniversários. Não é o meu caso. Gosto tanto que, quando um aniversário termina, já começo a planejar o do ano seguinte. Por isso, lembro com nitidez do ano em que a comemoração não aconteceu: 2020, o primeiro ano da pandemia de COVID-19. Claro, entre as muitas consequências daquele ano difícil, a ausência de uma festa de aniversário pessoal está longe de ser a mais relevante, mas não deixa de ser memorável, ao menos para mim.\n",
    "\n",
    "Além da ausência de bolo e parabéns, 2020 foi, curiosamente, um dos anos em que mais trabalhei. Estive envolvida com a Secretaria de Saúde, com o Ministério da Saúde e com a Faculdade de Ciências da Saúde da UnB. Em meio a plantões, pesquisas, boletins epidemiológicos e videochamadas sem fim, conheci algo que nunca tinha ouvido falar antes: a RIDE.\n",
    "\n",
    "A RIDE (Região Integrada de Desenvolvimento do Distrito Federal e Entorno, <a href=\"#fig-mapa-ride\" class=\"quarto-xref\">Figura 1</a>) é uma unidade regional composta pelo Distrito Federal e diversos municípios limítrofes dos estados de Goiás e Minas Gerais. Seu objetivo é promover o planejamento e a execução integrada de políticas públicas, especialmente em áreas como transporte, saúde, educação e infraestrutura, de modo a articular o desenvolvimento socioeconômico da capital federal com o de seu entorno imediato. O DF, por sua posição central e por concentrar muitos serviços públicos, presta serviços à região em múltiplas frentes, como saúde, empregos e educação.\n",
    "\n",
    "A ausência de uma festa e o calor escaldante de um apartamento sem ar-condicionado, com as janelas vedadas por conta de uma reforma de fachada, deixaram uma impressão permanente na memória. Assim, RIDE, aniversário e temperatura se entrelaçam para compor este trabalho.\n",
    "\n",
    "O objetivo deste relatório é aplicar técnicas de geoestatística, em especial a krigagem, para estimar a superfície de temperatura do dia 22 de outubro de 2020, data do meu aniversário, em toda a extensão da RIDE. A krigagem é um método de interpolação espacial que utiliza modelos variográficos para estimar valores em locais não amostrados, levando em consideração a autocorrelação espacial dos dados. Trata-se, portanto, de uma ferramenta poderosa para reconstruir superfícies contínuas a partir de dados pontuais, como é o caso das observações de temperatura registradas por sensores ou satélites.\n",
    "\n",
    "Mais do que um pretexto pessoal, este trabalho busca ilustrar o potencial da geoestatística na compreensão de padrões espaciais de variáveis ambientais, mesmo (ou especialmente) em datas de valor afetivo."
   ],
   "id": "9209bcb7-f46b-4641-9589-6da754679ec4"
  },
  {
   "cell_type": "code",
   "execution_count": null,
   "metadata": {},
   "outputs": [
    {
     "output_type": "stream",
     "name": "stderr",
     "text": [
      "Loading required package: pacman"
     ]
    }
   ],
   "source": [
    "rm(list=ls())\n",
    "if(!require(\"pacman\")) install.packages(\"pacman\")"
   ],
   "id": "a3478dda-4050-488b-9bea-9fce33c881a0"
  },
  {
   "cell_type": "code",
   "execution_count": null,
   "metadata": {},
   "outputs": [
    {
     "output_type": "stream",
     "name": "stderr",
     "text": [
      "Warning: st_centroid assumes attributes are constant over geometries"
     ]
    },
    {
     "output_type": "stream",
     "name": "stderr",
     "text": [
      "Warning: ggrepel: 1 unlabeled data points (too many overlaps). Consider\n",
      "increasing max.overlaps"
     ]
    }
   ],
   "source": [
    "## ler os shapefiles com pacote sp\n",
    "ride_sf <- sf::read_sf(\"RIDE/.\")\n",
    "ride_sf_centroids <- st_centroid(ride_sf)"
   ],
   "id": "febbf6a5-3fcb-4a87-a445-3359f4b8e49f"
  },
  {
   "cell_type": "code",
   "execution_count": null,
   "metadata": {
    "layout-align": "center"
   },
   "outputs": [
    {
     "output_type": "display_data",
     "metadata": {},
     "data": {}
    }
   ],
   "source": [
    "knitr::include_graphics(\"ride.png\")"
   ],
   "id": "cell-fig-mapa-ride"
  },
  {
   "cell_type": "code",
   "execution_count": null,
   "metadata": {},
   "outputs": [],
   "source": [
    "# username <- \"\"\n",
    "# password <- \"\"\n",
    "# mf_login(credentials = c(username, password))\n",
    "# \n",
    "# \n",
    "# roi <- st_as_sf(\n",
    "#   data.frame(id = \"ride_df\",\n",
    "#              geom =  \"POLYGON ((-49.36 -17.36, -49.36 -13.10, -45.56 -13.10, -45.56 -17.36, -49.36 -17.36))\"),\n",
    "#   wkt = \"geom\", crs = 4326\n",
    "# )\n",
    "# \n",
    "# \n",
    "# collection <- \"MOD11A1.061\" #10:30\n",
    "# variables <- c(\"LST_Day_1km\")\n",
    "# time_range <- as.Date(c(\"2020-10-22\", \"2020-10-22\"))\n",
    "# \n",
    "# urls <- mf_get_url(collection = collection, variables = variables,\n",
    "#                    roi = roi, time_range = time_range)"
   ],
   "id": "ee6026c8-b6fb-4273-a39d-6a2b211f8adb"
  },
  {
   "cell_type": "code",
   "execution_count": null,
   "metadata": {},
   "outputs": [],
   "source": [
    "# res <-  mf_download_data(urls)\n",
    "# \n",
    "# \n",
    "# rast <- mf_import_data(\n",
    "#   path = unique(dirname(res$destfile))[1],\n",
    "#   collection = collection,\n",
    "#   proj_epsg = 4326)\n",
    "# \n",
    "# df <- as.data.frame(rast, xy = TRUE)\n",
    "# df$lst_c <- df$LST_Day_1km - 273.15\n",
    "# \n",
    "# # 7) Exportar como CSV\n",
    "# write.csv(df[, c(\"x\",\"y\",\"lst_c\")], \"temperatura_geral.csv\", row.names = FALSE)\n",
    "# "
   ],
   "id": "d8be1859-2c5d-4fa6-8f02-923a3695aeaf"
  },
  {
   "cell_type": "markdown",
   "metadata": {},
   "source": [
    "## 2 Material e Métodos\n",
    "\n",
    "Para a obtenção dos dados de temperatura utilizados neste trabalho, recorreu-se à plataforma Earthdata, mantida pela NASA em parceria com o Serviço Geológico dos Estados Uniddos (USGS), que disponibiliza produtos de sensoriamento remoto derivados do sensor MODIS (Moderate Resolution Imaging Spectroradiometer), a bordo dos satélites Terra e Aqua ([Wan e Dozier 2002](#ref-wan2002modis); [NASA Earthdata 2024](#ref-earthdata)).\n",
    "\n",
    "Foi utilizada uma coleção diária de temperatura da superfície terrestre (Land Surface Temperature – LST), registrada no período diurno, aproximadamente às 10h30 no horário local, com resolução espacial de 1 km². Essa variável representa a temperatura radiativa da superfície da Terra, estimada a partir da emissão térmica captada pelos sensores MODIS. Os dados são originalmente fornecidos em kelvin e foram convertidos para graus Celsius para facilitar a análise e a interpretação. A data selecionada foi 22 de outubro de 2020, coincidindo com o aniversário da autora e escolhida como eixo temático do estudo.\n",
    "\n",
    "A área de interesse corresponde à Região Integrada de Desenvolvimento do Distrito Federal e Entorno (RIDE-DF), composta pelo Distrito Federal por 34 municípios de seu entorno, sendo 30 localizados no estado de Goiás e 4 em Minas Gerais, conforme estabelecido pela legislação federal vigente. Para delimitar essa região, foi utilizado um polígono geográfico de referência com abrangência compatível com os limites da RIDE. Os dados de temperatura foram então recortados com base nesse polígono, de forma a manter apenas os pontos efetivamente situados dentro da área de estudo."
   ],
   "id": "b9c5f8e7-1205-437d-94fe-a7ac40dd860b"
  },
  {
   "cell_type": "code",
   "execution_count": null,
   "metadata": {},
   "outputs": [
    {
     "output_type": "stream",
     "name": "stderr",
     "text": [
      "Rows: 110038 Columns: 3\n",
      "── Column specification ────────────────────────────────────────────────────────\n",
      "Delimiter: \",\"\n",
      "dbl (3): x, y, lst_c\n",
      "\n",
      "ℹ Use `spec()` to retrieve the full column specification for this data.\n",
      "ℹ Specify the column types or set `show_col_types = FALSE` to quiet this message."
     ]
    }
   ],
   "source": [
    "df <- read_csv(\"temperatura_geral.csv\")"
   ],
   "id": "5fffe9bd-c1b2-45c7-b783-3e6d7f1e42af"
  },
  {
   "cell_type": "markdown",
   "metadata": {},
   "source": [
    "No total, foram utilizados 181 medições . As coordenadas dos pontos de temperatura foram obtidas tanto em formato geográfico (latitude e longitude) quanto em sistema projetado UTM (Universal Transverse Mercator, zona 23S, SIRGAS 2000), sendo este último utilizado nas análises geoestatísticas por ser mais adequado ao cálculo de distâncias em metros."
   ],
   "id": "5ec96526-c2fe-46e9-a168-45457ec44f54"
  },
  {
   "cell_type": "code",
   "execution_count": null,
   "metadata": {},
   "outputs": [],
   "source": [
    "g2 <- ggplot() +\n",
    "  geom_sf(data = ride_sf, fill = NA, color = \"black\", linewidth = 0.1) +  # polígono em preto\n",
    "  geom_sf(data = dados_utm_sf_amostra, aes(color = temp), size = 2) +  # pontos coloridos\n",
    "  #acrescentar rotulos com nome dos municipios\n",
    "  \n",
    "  scale_color_viridis_c(name = \"Temperatura (°C)\") +\n",
    "  theme_minimal(base_size=12) +\n",
    "  labs(\n",
    "    title = \"Pontos de medição\\n Temperatura na RIDE-DF\",\n",
    "    caption = \"Fonte: Earthdata, NASA\"\n",
    "  )\n",
    "ggsave(\"ride_temp_points.png\", g2, width = 8, height = 6, dpi = 300)"
   ],
   "id": "8dd3ae41-20a1-4e4f-90d5-f41031955857"
  },
  {
   "cell_type": "code",
   "execution_count": null,
   "metadata": {},
   "outputs": [
    {
     "output_type": "display_data",
     "metadata": {},
     "data": {}
    }
   ],
   "source": [
    "knitr::include_graphics(\"ride_temp_points.png\")"
   ],
   "id": "cell-fig-pontos-amostrados"
  },
  {
   "cell_type": "markdown",
   "metadata": {},
   "source": [
    "Com os dados preparados, procedeu-se à aplicação da krigagem ordinária, técnica de interpolação espacial baseada na teoria dos processos estocásticos estacionários, que utiliza a estrutura de autocorrelação espacial da variável observada para gerar estimativas em pontos não amostrados.\n",
    "\n",
    "## 3 Resultados\n",
    "\n",
    "A fim de estimar a temperatura da superfície terrestre em locais não amostrados dentro da RIDE-DF, foi realizada a modelagem do variograma empírico com base na amostra dos 181 pontos. Para isso, foram testados diferentes modelos teóricos de variograma, esférico, gaussiano, exponencial e linear, com diferentes valores de sill, range e nugget com o objetivo de avaliar qual estrutura de dependência espacial melhor se ajustava aos dados.\n",
    "\n",
    "A comparação visual dos ajustes ( <a href=\"#fig-ajuste-variogramas\" class=\"quarto-xref\">Figura 3</a>) mostrou que os modelos esférico e exponencial foram capazes de capturar razoavelmente bem a tendência observada no variograma empírico. O modelo gaussiano não se ajustou bem quando os dados atingiam o range e o modelo linear apresentou instabilidades no processo de ajuste, com alerta de singularidade, e foi descartado da análise final. O gráfico resultante mostra a semivariância média dos pares de pontos em função da distância que os separa, evidenciando o grau de dependência espacial da variável.\n",
    "\n",
    "O modelo exponencial foi selecionado para as análises de krigagem, por apresentar o melhor compromisso entre aderência visual ao variograma empírico, simplicidade de interpretação e estabilidade numérica no ajuste. Conforme discutido por Moraga (2022), esse modelo é especialmente útil quando a correlação espacial decresce suavemente com a distância, o que foi observado nos dados analisados.\n",
    "\n",
    "Com o modelo exponencial ajustado, foi realizada a krigagem ordinária sobre uma grade regular de pontos com espaçamento de 1 km dentro da área da RIDE. O resultado foi a geração de uma superfície contínua de temperatura estimada, representando a variação espacial da LST em toda a região no dia 22 de outubro de 2020."
   ],
   "id": "6569e313-83ff-4a46-9516-44b8305d687d"
  },
  {
   "cell_type": "code",
   "execution_count": null,
   "metadata": {},
   "outputs": [
    {
     "output_type": "stream",
     "name": "stderr",
     "text": [
      "Warning in fit.variogram(v, model = vgm(psill = 15, model = \"Lin\", range = 200,\n",
      ": singular model in variogram fit"
     ]
    }
   ],
   "source": [
    "# 1. Calcula variograma\n",
    "v <- variogram(temp ~ 1, data = dados_utm_sf_amostra)\n",
    "v$dist <- v$dist / 1000  # converte para km\n",
    "\n",
    "# 2. Ajusta modelos\n",
    "fit_sph <- fit.variogram(v, model = vgm(psill = 15, model = \"Sph\", range = 200, nugget = 3))\n",
    "fit_gau <- fit.variogram(v, model = vgm(psill = 15, model = \"Gau\", range = 200, nugget = 3))\n",
    "fit_exp <- fit.variogram(v, model = vgm(psill = 10, model = \"Exp\", range = 200, nugget = 2))\n",
    "fit_lin <- fit.variogram(v, model = vgm(psill = 15, model = \"Lin\", range = 200, nugget = 3))"
   ],
   "id": "0340b518-8473-4806-a3bd-420eebb4bca0"
  },
  {
   "cell_type": "code",
   "execution_count": null,
   "metadata": {},
   "outputs": [
    {
     "output_type": "display_data",
     "metadata": {},
     "data": {}
    }
   ],
   "source": [
    "# 4. Patchwork: 2x2\n",
    "(g1 | g2) / (g3 | g4)"
   ],
   "id": "cell-fig-ajuste-variogramas"
  },
  {
   "cell_type": "markdown",
   "metadata": {},
   "source": [
    "Na sequência, foi ajustado um modelo teórico exponencial, com parâmetros iniciais definidos para o patamar (sill), efeito pepita (nugget) e alcance (range). O ajuste obteve convergência e mostrou boa aderência visual ao variograma empírico, respeitando a tendência de crescimento rápido da semivariância para pequenas distâncias, característica compatível com esse tipo de modelo.\n",
    "\n",
    "O modelo ajustado estimou um nugget de aproximadamente 3, indicando uma parcela de variabilidade que não é explicada pela estrutura espacial, possivelmente atribuída a erros de medição, microvariações locais ou ruído do processo. O sill (patamar da variância total) foi estimado em torno de 15, valor que representa o nível de estabilização da semivariância para distâncias maiores. Já o range foi estimado em cerca de 150 km, sugerindo que pontos distantes até essa ordem de magnitude ainda apresentam correlação espacial significativa.\n",
    "\n",
    "Esses valores são consistentes com um cenário em que a temperatura de superfície apresenta autocorrelação espacial de média escala, com variação gradual ao longo do território da RIDE, o que justifica o uso da krigagem como interpolador."
   ],
   "id": "51c04723-98ea-4df7-9e38-63b2bbea8412"
  },
  {
   "cell_type": "code",
   "execution_count": null,
   "metadata": {},
   "outputs": [
    {
     "output_type": "stream",
     "name": "stdout",
     "text": [
      "[using ordinary kriging]"
     ]
    }
   ],
   "source": [
    "# Criar grade regular mais esparsa (5 km em vez de 1 km)\n",
    "vc <- variogram(temp ~ 1, dados_utm_sf_amostra)\n",
    "vinitial <- vgm(psill = 15, model = \"Exp\", range = 150000, nugget = 3)\n",
    "fv <- fit.variogram(vc, model = vinitial)\n",
    "ride_utm <- st_transform(ride_sf, 31983)\n",
    "\n",
    "# 🔳 Criar grade regular de pontos dentro da RIDE\n",
    "# Criar grade com espaçamento maior (ex: 5 km)\n",
    "grid <- st_make_grid(ride_utm, cellsize = 2500, what = \"centers\")\n",
    "grid_sf <- st_sf(geometry = grid, crs = st_crs(ride_utm))\n",
    "grid_sf <- grid_sf[ride_utm, ]\n",
    "\n",
    "\n",
    "# 🤖 Krigagem\n",
    "k <- gstat(formula = temp ~ 1, data = dados_utm_sf_amostra, model = fv)\n",
    "kpred <- predict(k, newdata = grid_sf)"
   ],
   "id": "f25b3768-08af-42f7-8242-411cfc7312bd"
  },
  {
   "cell_type": "markdown",
   "metadata": {},
   "source": [
    "Para a aplicação da krigagem, foi construída uma grade regular de predição sobre a área da RIDE, com espaçamento de 2.500 metros entre os pontos centrais. Esse valor foi escolhido com o objetivo de manter boa resolução espacial ao mesmo tempo em que se preserva a legibilidade visual da trama da grade. Os pontos da grade foram filtrados para incluir apenas aqueles contidos dentro dos limites geográficos da região de estudo.\n",
    "\n",
    "A <a href=\"#fig-grade-krigagem\" class=\"quarto-xref\">Figura 4</a> apresenta os pontos da grade de predição (em vermelho) distribuídos de forma homogênea ao longo da RIDE, além dos pontos amostrados utilizados para o ajuste da krigagem. Estes pontos amostrados estão representados por marcadores pretos, acompanhados dos respectivos valores de temperatura da superfície terrestre (em graus Celsius)."
   ],
   "id": "03ee96fb-acc5-4865-b7f3-e6ed76c3b84d"
  },
  {
   "cell_type": "code",
   "execution_count": null,
   "metadata": {},
   "outputs": [],
   "source": [
    "dados_lab <- dados_utm_sf_amostra %>%\n",
    "  mutate(temp_label = sprintf(\"%.1f\", temp))\n",
    "# Gráfico\n",
    "g3 <- ggplot() +\n",
    "  geom_sf(data = ride_utm, fill = NA, color = \"black\") +  # contorno da RIDE\n",
    "  geom_sf(data = grid_sf, color = \"darkred\", size = 0.1, alpha = 0.6) +  # pontos do grid\n",
    "  geom_sf(data = dados_lab, size = 1.2, shape = 21, fill = \"black\") +  # pontos amostrados pretos\n",
    "  geom_sf_text(data = dados_lab, aes(label = temp_label), size = 2, nudge_y = 10000) +  # temperatura como texto\n",
    "  theme_minimal(base_size=12) +\n",
    "  labs(\n",
    "    title = \"Grid de krigagem \",\n",
    "    subtitle = \"Espaçamento de 5 km\",\n",
    "    caption = \"Fonte: Earthdata, NASA\"\n",
    "  )\n",
    "ggsave(\"ride_temp_grid.png\", g3, width = 8, height = 6, dpi = 300)"
   ],
   "id": "4e768f96-f7af-4453-b76a-849a9097be47"
  },
  {
   "cell_type": "code",
   "execution_count": null,
   "metadata": {},
   "outputs": [
    {
     "output_type": "display_data",
     "metadata": {},
     "data": {}
    }
   ],
   "source": [
    "knitr::include_graphics(\"ride_temp_grid.png\")"
   ],
   "id": "cell-fig-grade-krigagem"
  },
  {
   "cell_type": "code",
   "execution_count": null,
   "metadata": {},
   "outputs": [
    {
     "output_type": "stream",
     "name": "stdout",
     "text": [
      "[using universal kriging]"
     ]
    }
   ],
   "source": [
    "dados_utm_sf_amostra <- dados_utm_sf_amostra %>%\n",
    "  mutate(\n",
    "    x = st_coordinates(geometry)[,1],\n",
    "    y = st_coordinates(geometry)[,2]\n",
    "  )\n",
    "grid_sf <- grid_sf %>%\n",
    "  mutate(\n",
    "    x = st_coordinates(geometry)[,1],\n",
    "    y = st_coordinates(geometry)[,2]\n",
    "  )\n",
    "# Krigagem com tendência espacial (universal)\n",
    "k_uni <- gstat(\n",
    "  formula = temp ~ x + y,\n",
    "  data = dados_utm_sf_amostra,\n",
    "  model = fv\n",
    ")\n",
    "\n",
    "# Predição sobre a grade\n",
    "kpred_uni <- predict(k_uni, newdata = grid_sf)"
   ],
   "id": "2c861f84-5208-4d18-b635-c21991685957"
  },
  {
   "cell_type": "markdown",
   "metadata": {},
   "source": [
    "Além da krigagem ordinária, foi também aplicada a krigagem universal, que considera a presença de uma tendência espacial global na média da variável de interesse. Nesse caso, admitiu-se que a temperatura da superfície terrestre poderia variar de forma sistemática ao longo do espaço, e essa tendência foi modelada por meio das próprias coordenadas UTM (x e y) dos pontos de amostragem.\n",
    "\n",
    "O modelo ajustado incorporou essa estrutura, permitindo estimar a média da temperatura como uma função linear das coordenadas espaciais, enquanto a dependência residual foi tratada pela estrutura variográfica previamente ajustada.\n",
    "\n",
    "Apesar da incorporação dessa estrutura adicional no modelo, a comparação visual entre os mapas resultantes da krigagem ordinária e da krigagem universal ( <a href=\"#fig-krigagem-comparacao\" class=\"quarto-xref\">Figura 5</a>) não revelou diferenças perceptíveis na superfície interpolada. Ambas as abordagens produziram mapas semelhantes, com padrões espaciais suaves e coerentes com a distribuição dos dados observados.\n",
    "\n",
    "Essa ausência de distinção visual pode ser explicada por características da própria área de estudo: a RIDE-DF está localizada em uma região de relevo relativamente plano e contínuo, com uma distribuição espacial de temperatura que, ao menos na data considerada, não apresenta gradientes acentuados ou tendências marcantes ao longo das coordenadas geográficas. Em contextos assim, a contribuição de uma estrutura de tendência global tende a ser pequena, fazendo com que a krigagem universal e a ordinária produzam resultados semelhantes."
   ],
   "id": "2ec3babe-2f8e-4462-9d25-d702d356eb4a"
  },
  {
   "cell_type": "code",
   "execution_count": null,
   "metadata": {},
   "outputs": [
    {
     "output_type": "display_data",
     "metadata": {},
     "data": {}
    }
   ],
   "source": [
    "# Gráfico da krigagem ordinária\n",
    "p_ordinaria <- ggplot() +\n",
    "  geom_sf(data = kpred_latlon, aes(color = var1.pred), size = 0.6) +\n",
    "  geom_sf(data = ride_latlon, fill = NA, color = \"black\", linewidth = 0.1) +\n",
    "  scale_color_viridis_c(name = \"Temperatura (°C)\", option = \"magma\") +\n",
    "  theme_minimal(base_size=12) +\n",
    "  labs(title = \"Krigagem Ordinária\", subtitle = \"Sem tendência espacial\")\n",
    "\n",
    "# Gráfico da krigagem universal\n",
    "p_universal <- ggplot() +\n",
    "  geom_sf(data = st_transform(kpred_uni_sf, 4326), aes(color = var1.pred), size = 0.6) +\n",
    "  geom_sf(data = ride_latlon, fill = NA, color = \"black\", linewidth = 0.1) +\n",
    "  scale_color_viridis_c(name = \"Temperatura (°C)\", option = \"magma\") +\n",
    "  theme_minimal(base_size=12) +\n",
    "  labs(title = \"Krigagem Universal\", subtitle = \"Com tendência espacial (x, y)\")\n",
    "\n",
    "# Patchwork lado a lado\n",
    "p_ordinaria + p_universal + plot_layout(guides = \"collect\") & theme(legend.position = \"bottom\")"
   ],
   "id": "cell-fig-krigagem-comparacao"
  },
  {
   "cell_type": "markdown",
   "metadata": {},
   "source": [
    "Avaliando a superficie de erros vemos que os erros sao menores perto dos posntos amostrados como esperado lalala"
   ],
   "id": "8198226e-69f8-4a1c-8d0d-fd05bae03421"
  },
  {
   "cell_type": "code",
   "execution_count": null,
   "metadata": {},
   "outputs": [],
   "source": [
    "# Adicione a coluna de variância aos objetos sf\n",
    "kpred_latlon$method <- \"Ordinária\"\n",
    "kpred_latlon$var <- kpred$var1.var\n",
    "\n",
    "kpred_uni_latlon <- st_transform(kpred_uni_sf, 4326)\n",
    "kpred_uni_latlon$method <- \"Universal\"\n",
    "kpred_uni_latlon$var <- kpred_uni$var1.var\n",
    "\n",
    "# Junta ambos para facilitar o plot com facetas ou patchwork\n",
    "erros_comb <- rbind(kpred_latlon, kpred_uni_latlon)"
   ],
   "id": "e7ade380-2716-409a-b3a0-11c3f38527d7"
  },
  {
   "cell_type": "markdown",
   "metadata": {},
   "source": [
    "Avaliando a superfície do erro padrão das predições por krigagem (<a href=\"#fig-superficie-erro-padrao\" class=\"quarto-xref\">Figura 6</a>), observa-se que os menores valores de incerteza concentram-se nas regiões próximas aos pontos de amostragem, como era esperado. Nessas áreas, a densidade de informação observada permite ao modelo realizar predições mais confiáveis, reduzindo a variância associada. Por outro lado, nas porções mais periféricas da RIDE, especialmente em trechos do norte, nordeste e extremo oeste —, os valores do erro padrão se elevam, refletindo a maior distância em relação aos dados utilizados no ajuste da krigagem.\n",
    "\n",
    "Esse comportamento é característico do método geoestatístico adotado, uma vez que a precisão da predição decai com o aumento da distância em relação aos pontos observados. Além disso, nota-se que tanto a krigagem ordinária quanto a universal apresentaram padrões similares de erro padrão, reforçando a conclusão de que a inclusão da tendência espacial não resultou em ganhos substantivos de acurácia no presente contexto."
   ],
   "id": "c638b27b-dfb4-4a65-ab48-3ade4e937f56"
  },
  {
   "cell_type": "code",
   "execution_count": null,
   "metadata": {},
   "outputs": [],
   "source": [
    "# Para krigagem ordinária\n",
    "kpred_latlon$erro_padrao <- sqrt(kpred$var1.var)\n",
    "\n",
    "# Para krigagem universal\n",
    "kpred_uni_latlon$erro_padrao <- sqrt(kpred_uni$var1.var)"
   ],
   "id": "d6e21c65-88a2-4780-8629-a7fe43ca316a"
  },
  {
   "cell_type": "code",
   "execution_count": null,
   "metadata": {},
   "outputs": [
    {
     "output_type": "display_data",
     "metadata": {},
     "data": {}
    }
   ],
   "source": [
    "# Erro padrão ordinário\n",
    "g1 <- ggplot() +\n",
    "  geom_sf(data = kpred_latlon, aes(color = erro_padrao), size = 0.6) +\n",
    "  geom_sf(data = ride_latlon, fill = NA, color = \"black\", linewidth = 0.1) +\n",
    "  scale_color_viridis_c(name = \"Erro padrão (°C)\") +\n",
    "  theme_minimal(base_size=12) +\n",
    "  labs(title = \"Erro padrão\\n Krigagem Ordinária\")\n",
    "\n",
    "# Erro padrão universal\n",
    "g2 <- ggplot() +\n",
    "  geom_sf(data = kpred_uni_latlon, aes(color = erro_padrao), size = 0.6) +\n",
    "  geom_sf(data = ride_latlon, fill = NA, color = \"black\", linewidth = 0.1) +\n",
    "  scale_color_viridis_c(name = \"Erro padrão (°C)\") +\n",
    "  theme_minimal(base_size=12) +\n",
    "  labs(title = \"Erro padrão\\n Krigagem Universal\")\n",
    "\n",
    "# Patchwork com legenda única\n",
    "g1 + g2 + plot_layout(guides = \"collect\") & theme(legend.position = \"bottom\")"
   ],
   "id": "cell-fig-superficie-erro-padrao"
  },
  {
   "cell_type": "markdown",
   "metadata": {},
   "source": [
    "## 4 Conclusões\n",
    "\n",
    "A superfície de temperatura estimada pela krigagem revela padrões espaciais coerentes com as características geográficas e ambientais da Região Integrada de Desenvolvimento do Distrito Federal e Entorno (RIDE-DF). Observa-se uma tendência de temperaturas mais elevadas nas porções norte e oeste da região, especialmente em municípios como Cavalcante, Alto Paraíso de Goiás, Niquelândia e Barro Alto. Essas localidades são marcadas por altitudes relativamente mais baixas, presença predominante de áreas abertas, pastagens e agricultura extensiva, e menor cobertura florestal, fatores que favorecem maior absorção de radiação solar e aquecimento da superfície terrestre (Moraga, 2022). E eu também por acaso já notei que Cavalcante costuma ser bem mais quente que Brasília quando vou la acambar no Parque Nacional da Chapada dos Veadeiros.\n",
    "\n",
    "Em contraste, as temperaturas mais amenas concentram-se na porção sul da RIDE, em municípios como Cristalina, Luziânia, Cidade Ocidental e Novo Gama, além do centro-leste da região, abrangendo o Distrito Federal. Essa distribuição se alinha à topografia mais elevada do Planalto Central, onde altitudes frequentemente superam os 1.000 metros, contribuindo para uma moderação térmica natural. A maior presença de manchas urbanas contínuas com arborização significativa, aliada a áreas de proteção ambiental como o Parque Nacional de Brasília, também pode resultar em temperaturas de superfície mais baixas, configurando, em alguns trechos, o fenômeno conhecido como “ilha de frescor urbano”\n",
    "\n",
    "Os dados utilizados referem-se à temperatura da superfície terrestre (Land Surface Temperature – LST) captada via sensoriamento remoto no período diurno (~10h30), sendo sensíveis à cobertura e ao uso do solo, à umidade superficial e ao relevo. Como a data de referência é 22 de outubro de 2020, dia do aniversário da autora, e também um dos mais quentes daquele ano na região —, a escolha do recorte temporal não foi apenas afetiva, mas também climática. Trata-se de um momento de transição entre a estação seca e o início da estação chuvosa no Centro-Oeste, período marcado por altos índices de radiação solar e baixa umidade do solo.\n",
    "\n",
    "Curiosamente, embora a memória térmica da autora guarde a Asa Norte como um forno reformando sem ar-condicionado, os dados mostram que havia regiões significativamente mais quentes na RIDE naquele dia. Assim, o sofrimento era real, mas não estava sozinho: a superfície do Planalto queimava de forma coletiva\n",
    "\n",
    "## Referências\n",
    "\n",
    "NASA Earthdata. 2024. «Earthdata Search». <https://search.earthdata.nasa.gov>.\n",
    "\n",
    "Wan, Zhengming, e Jeff Dozier. 2002. «MODIS land surface temperature products». *Remote Sensing of Environment* 83 (1-2): 163–80."
   ],
   "id": "a701480c-6838-466d-80a4-4e264eb3e01d"
  }
 ],
 "nbformat": 4,
 "nbformat_minor": 5,
 "metadata": {}
}
